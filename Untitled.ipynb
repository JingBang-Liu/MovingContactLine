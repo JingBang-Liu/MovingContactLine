{
 "cells": [
  {
   "cell_type": "markdown",
   "metadata": {},
   "source": [
    "# Summary #\n",
    "\n",
    "The target of this code is to reproduce the results from the paper *Contact-line fluctuations and dynamic wetting* (2019) [click here](https://doi.org/10.1016/j.jcis.2019.01.041)."
   ]
  },
  {
   "cell_type": "markdown",
   "metadata": {},
   "source": [
    "# Build initial configuration #\n",
    "\n",
    "We would like to build the initial configuration two walls each with 16275 atoms arranged in a rectangular square-laner lattice comprising three atomic layers."
   ]
  },
  {
   "cell_type": "markdown",
   "metadata": {},
   "source": [
    "## Build the two walls"
   ]
  },
  {
   "cell_type": "code",
   "execution_count": 1,
   "metadata": {
    "ExecuteTime": {
     "end_time": "2020-04-04T15:55:37.966108Z",
     "start_time": "2020-04-04T15:55:36.498494Z"
    }
   },
   "outputs": [
    {
     "name": "stdout",
     "output_type": "stream",
     "text": [
      "175.0\n",
      "32550\n",
      "the cell of one wall is  Cell([687.75, 121.83, 11.790000000000001])\n",
      "the cell of ini_config Cell([687.75, 121.83, 110.04])\n",
      "the height of liquid should be 86.46000000000001\n"
     ]
    }
   ],
   "source": [
    "# we will use Atomic Simulation Enviroment to build the two walls\n",
    "from ase import build\n",
    "from ase.lattice.cubic import FaceCenteredCubic\n",
    "from ase.lattice.cubic import BodyCenteredCubic\n",
    "from ase.lattice.cubic import SimpleCubic\n",
    "from ase.io import lammpsdata\n",
    "from ase import io\n",
    "from ase import Atoms\n",
    "\n",
    "print(16275/3/31)\n",
    "print(16275*2)\n",
    "\n",
    "gap = 25\n",
    "lat = 3.93\n",
    "# build the lower wall\n",
    "wall_l = SimpleCubic('Cu',size=(175,31,3),latticeconstant=lat)\n",
    "print('the cell of one wall is ', wall_l.get_cell())\n",
    "\n",
    "# get the position of the upper wall\n",
    "wall_pos = wall_l.get_positions()\n",
    "wall_pos[:,2] = wall_pos[:,2] + lat*gap\n",
    "\n",
    "# build the upper wall with given position\n",
    "wall_u = SimpleCubic('Fe',size=(175,31,3),latticeconstant=3.93)\n",
    "wall_u.set_positions(wall_pos)\n",
    "\n",
    "# add the walls to initial configuration\n",
    "walls = wall_l + wall_u\n",
    "\n",
    "# expand the cell to proper size\n",
    "cell_walls = walls.get_cell()\n",
    "wall_th = cell_walls[2,2]\n",
    "cell_walls[2,2] = lat*gap + cell_walls[2,2]\n",
    "#ini_config_test = ini_config.copy()\n",
    "walls.set_cell(cell_walls)\n",
    "\n",
    "print('the cell of ini_config',walls.get_cell())\n",
    "print('the height of liquid should be', cell_walls[2,2]-2*wall_th)\n",
    "\n",
    "\n",
    "\n"
   ]
  },
  {
   "cell_type": "code",
   "execution_count": 70,
   "metadata": {
    "ExecuteTime": {
     "end_time": "2020-03-04T12:05:42.584055Z",
     "start_time": "2020-03-04T12:05:41.572280Z"
    }
   },
   "outputs": [
    {
     "data": {
      "application/vnd.jupyter.widget-view+json": {
       "model_id": "711eb1dd46a54644800a5e4cd6f8770b",
       "version_major": 2,
       "version_minor": 0
      },
      "text/plain": [
       "HBox(children=(NGLWidget(), VBox(children=(Dropdown(description='Show', options=('All', 'Cu', 'Fe'), value='Al…"
      ]
     },
     "metadata": {},
     "output_type": "display_data"
    }
   ],
   "source": [
    "from ase.visualize import view\n",
    "\n",
    "view(walls,viewer='ngl')"
   ]
  },
  {
   "cell_type": "markdown",
   "metadata": {},
   "source": [
    "## Build the water config\n",
    "\n",
    "In this section we import "
   ]
  },
  {
   "cell_type": "code",
   "execution_count": 19,
   "metadata": {
    "ExecuteTime": {
     "end_time": "2020-03-03T22:38:53.452474Z",
     "start_time": "2020-03-03T22:38:52.979054Z"
    }
   },
   "outputs": [
    {
     "name": "stdout",
     "output_type": "stream",
     "text": [
      "74.0\n",
      "110.04\n"
     ]
    }
   ],
   "source": [
    "# Function to remove Hydrogen atoms from the structures\n",
    "def remove_H(m):\n",
    "    m_noH = m.copy()\n",
    "    sym=m.get_chemical_symbols()\n",
    "    del_idx = [k for k in range(len(sym)) if sym[k]=='H']\n",
    "    del m_noH[del_idx]\n",
    "    return m_noH\n",
    "\n",
    "# read\n",
    "water_temp = io.read(filename='waterSphere.xyz',format='xyz')\n",
    "water_temp = remove_H(water_temp)\n",
    "water_pos = water_temp.get_positions()\n",
    "water_pos[:,2] = water_pos[:,2] + lat*3 - 1.0\n",
    "water_pos[:,0] = water_pos[:,0] + lat*10\n",
    "#print(48840/22/30)\n",
    "#print(cell_walls[2,2])\n",
    "water = SimpleCubic('O',size=(74,30,22),latticeconstant=lat)\n",
    "water.set_positions(water_pos)\n",
    "cell_water = water.get_cell()\n",
    "cell_water[0,0] = 687.75\n",
    "cell_water[1,1] = 121.83\n",
    "cell_water[2,2] = 110.04\n",
    "water.set_cell(cell_water)"
   ]
  },
  {
   "cell_type": "code",
   "execution_count": 20,
   "metadata": {
    "ExecuteTime": {
     "end_time": "2020-03-03T22:38:54.394242Z",
     "start_time": "2020-03-03T22:38:53.453875Z"
    }
   },
   "outputs": [
    {
     "data": {
      "application/vnd.jupyter.widget-view+json": {
       "model_id": "2ecb47acfabc4a95bfc6507db4feb914",
       "version_major": 2,
       "version_minor": 0
      },
      "text/plain": [
       "HBox(children=(NGLWidget(), VBox(children=(Dropdown(description='Show', options=('All', 'O'), value='All'), Dr…"
      ]
     },
     "metadata": {},
     "output_type": "display_data"
    }
   ],
   "source": [
    "view(water, viewer='ngl')\n",
    "#view(ini_config_test, viewer='ngl')"
   ]
  },
  {
   "cell_type": "markdown",
   "metadata": {},
   "source": [
    "## Build the whole initial configuration"
   ]
  },
  {
   "cell_type": "code",
   "execution_count": 21,
   "metadata": {
    "ExecuteTime": {
     "end_time": "2020-03-03T22:38:55.339428Z",
     "start_time": "2020-03-03T22:38:54.500802Z"
    }
   },
   "outputs": [
    {
     "name": "stdout",
     "output_type": "stream",
     "text": [
      "Lattice(symbols='Cu16275Fe16275', pbc=True, cell=[687.75, 121.83, 110.04])\n",
      "Lattice(symbols='Cu16275Fe16275O48840', pbc=True, cell=[687.75, 121.83, 110.04])\n"
     ]
    }
   ],
   "source": [
    "print(walls)\n",
    "ini_config = walls + water\n",
    "print(ini_config)\n",
    "# export the initial configuration\n",
    "ini_config.write(filename='atomdata',format='lammps-data')"
   ]
  },
  {
   "cell_type": "code",
   "execution_count": 22,
   "metadata": {
    "ExecuteTime": {
     "end_time": "2020-03-03T22:38:56.813159Z",
     "start_time": "2020-03-03T22:38:55.340924Z"
    }
   },
   "outputs": [
    {
     "data": {
      "application/vnd.jupyter.widget-view+json": {
       "model_id": "27445108450b4e7ea1eeb330494b425b",
       "version_major": 2,
       "version_minor": 0
      },
      "text/plain": [
       "HBox(children=(NGLWidget(), VBox(children=(Dropdown(description='Show', options=('All', 'O', 'Cu', 'Fe'), valu…"
      ]
     },
     "metadata": {},
     "output_type": "display_data"
    }
   ],
   "source": [
    "view(ini_config,viewer='ngl')"
   ]
  },
  {
   "cell_type": "markdown",
   "metadata": {},
   "source": [
    "## Build a smaller initial configuration for testing ##\n",
    "\n",
    "In this section we build a smaller initial configuration for testing purpose on a small not powerful computer. (until I get a much more powerful one)\n",
    "\n",
    "The components of the initial configuration are:\n",
    "\n",
    "- wall: 175\\*31\\*3, that is 16275 atoms in a [687.75, 121.83, 11.79] cell\n",
    "- water: 48840 atoms in a [600,121.83,83.0] cell\n",
    "\n",
    "For a smaller configuration, we would like less water atoms, that is *8140* water atoms, and the size of the cell should be [200,60,80]. For new wall, we would like to keep the thickness, so the new cell size should be [243.66,62.88,11.79], that is 62\\*16\\*3"
   ]
  },
  {
   "cell_type": "code",
   "execution_count": 52,
   "metadata": {
    "ExecuteTime": {
     "end_time": "2020-03-04T10:36:54.782231Z",
     "start_time": "2020-03-04T10:36:54.751617Z"
    }
   },
   "outputs": [
    {
     "name": "stdout",
     "output_type": "stream",
     "text": [
      "the cell of one wall is  Cell([345.84000000000003, 62.88, 11.790000000000001])\n",
      "86.46000000000001\n",
      "the cell of ini_config Cell([345.84000000000003, 62.88, 98.25000000000001])\n",
      "the height of liquid should be 74.67000000000002\n"
     ]
    }
   ],
   "source": [
    "gap_s = 22\n",
    "# build the lower wall\n",
    "small_wall_l = SimpleCubic('Cu',size=(88,16,3),latticeconstant=lat)\n",
    "print('the cell of one wall is ', small_wall_l.get_cell())\n",
    "\n",
    "# get the position of the upper wall\n",
    "small_wall_pos = small_wall_l.get_positions()\n",
    "small_wall_pos[:,2] = small_wall_pos[:,2] + lat*gap_s\n",
    "\n",
    "# build the upper wall with given position\n",
    "small_wall_u = SimpleCubic('Fe',size=(88,16,3),latticeconstant=3.93)\n",
    "small_wall_u.set_positions(small_wall_pos)\n",
    "\n",
    "# add the walls to initial configuration\n",
    "small_walls = small_wall_l + small_wall_u\n",
    "\n",
    "# expand the cell to proper size\n",
    "cell_small_walls = small_walls.get_cell()\n",
    "small_wall_th = cell_small_walls[2,2]\n",
    "cell_small_walls[2,2] = lat*gap_s + cell_small_walls[2,2]\n",
    "#ini_config_test = ini_config.copy()\n",
    "small_walls.set_cell(cell_small_walls)\n",
    "\n",
    "print(gap_s*lat)\n",
    "print('the cell of ini_config',small_walls.get_cell())\n",
    "print('the height of liquid should be', cell_small_walls[2,2]-2*small_wall_th)"
   ]
  },
  {
   "cell_type": "code",
   "execution_count": 53,
   "metadata": {
    "ExecuteTime": {
     "end_time": "2020-03-04T10:36:55.474162Z",
     "start_time": "2020-03-04T10:36:55.251206Z"
    }
   },
   "outputs": [
    {
     "data": {
      "application/vnd.jupyter.widget-view+json": {
       "model_id": "1499e7bd931e476190d37a468d853409",
       "version_major": 2,
       "version_minor": 0
      },
      "text/plain": [
       "HBox(children=(NGLWidget(), VBox(children=(Dropdown(description='Show', options=('All', 'Cu', 'Fe'), value='Al…"
      ]
     },
     "metadata": {},
     "output_type": "display_data"
    }
   ],
   "source": [
    "view(small_walls,viewer='ngl')"
   ]
  },
  {
   "cell_type": "code",
   "execution_count": 66,
   "metadata": {
    "ExecuteTime": {
     "end_time": "2020-03-04T10:38:50.157787Z",
     "start_time": "2020-03-04T10:38:50.030664Z"
    }
   },
   "outputs": [],
   "source": [
    "small_water_temp = io.read(filename='waterBoxSmall.xyz',format='xyz')\n",
    "small_water_temp = remove_H(small_water_temp)\n",
    "small_water_pos = small_water_temp.get_positions()\n",
    "small_water_pos[:,2] = small_water_pos[:,2] + lat*3 - 2.0\n",
    "small_water_pos[:,0] = small_water_pos[:,0] + lat*15\n",
    "#print(small_cell_walls[2,2])\n",
    "small_water = SimpleCubic('O',size=(37,10,22),latticeconstant=lat)\n",
    "small_water.set_positions(small_water_pos)\n",
    "cell_small_water = small_water.get_cell()\n",
    "cell_small_water[0,0] = 345.85\n",
    "cell_small_water[1,1] = 62.88\n",
    "cell_small_water[2,2] = 98.25\n",
    "small_water.set_cell(cell_small_water)"
   ]
  },
  {
   "cell_type": "code",
   "execution_count": 67,
   "metadata": {
    "ExecuteTime": {
     "end_time": "2020-03-04T10:38:50.660536Z",
     "start_time": "2020-03-04T10:38:50.390604Z"
    }
   },
   "outputs": [
    {
     "data": {
      "application/vnd.jupyter.widget-view+json": {
       "model_id": "1c875f53a1ac46a1a531e11f3a483446",
       "version_major": 2,
       "version_minor": 0
      },
      "text/plain": [
       "HBox(children=(NGLWidget(), VBox(children=(Dropdown(description='Show', options=('All', 'O'), value='All'), Dr…"
      ]
     },
     "metadata": {},
     "output_type": "display_data"
    }
   ],
   "source": [
    "view(small_water,viewer='ngl')"
   ]
  },
  {
   "cell_type": "code",
   "execution_count": 68,
   "metadata": {
    "ExecuteTime": {
     "end_time": "2020-03-04T10:38:51.049090Z",
     "start_time": "2020-03-04T10:38:50.815280Z"
    }
   },
   "outputs": [
    {
     "name": "stdout",
     "output_type": "stream",
     "text": [
      "Lattice(symbols='Cu16275Fe16275', pbc=True, cell=[687.75, 121.83, 110.04])\n",
      "Lattice(symbols='Cu4224Fe4224O8140', pbc=True, cell=[345.84000000000003, 62.88, 98.25000000000001])\n"
     ]
    }
   ],
   "source": [
    "print(walls)\n",
    "ini_config_small = small_walls + small_water\n",
    "print(ini_config_small)\n",
    "# export the initial configuration\n",
    "ini_config_small.write(filename='atomdata_small',format='lammps-data')"
   ]
  },
  {
   "cell_type": "markdown",
   "metadata": {},
   "source": [
    "# Test #\n",
    "\n",
    "Test section will try to reproduce one solid plate with two drops on it.\n",
    "The solid plate is made of **Cu**, 4 layers, 5 atoms wide and 2000 atoms long."
   ]
  },
  {
   "cell_type": "code",
   "execution_count": 14,
   "metadata": {
    "ExecuteTime": {
     "end_time": "2020-03-03T13:45:46.306559Z",
     "start_time": "2020-03-03T13:45:46.254444Z"
    }
   },
   "outputs": [],
   "source": [
    "from ase.build import bulk\n",
    "from ase import Atoms\n",
    "from ase.lattice.cubic import SimpleCubic\n",
    "from ase.lattice.cubic import Diamond\n",
    "from ase.lattice.cubic import FaceCenteredCubic\n",
    "from ase.io import lammpsdata\n",
    "\n",
    "d = 0.9 # H-H distance\n",
    "h = Atoms('H',\n",
    "            positions=[(0,0,0)],\n",
    "            cell=(d,0,0),\n",
    "            pbc=(1,0,0))\n",
    "#cell = Diamond('Cu', size=(4,5,20),latticeconstant=d)\n",
    "cell = FaceCenteredCubic('Cu', size=(20,5,2),latticeconstant=3.2)\n",
    "ase.lattice.cubic?\n",
    "pos = cell.get_positions()\n",
    "#print(pos[10])\n",
    "\n",
    "cell.write(filename='atomdata',format='lammps-data')\n",
    "#cell = bulk('Cu', 'bcc', a=2.6, size=(2,2,2), cubic=True)"
   ]
  },
  {
   "cell_type": "code",
   "execution_count": 3,
   "metadata": {
    "ExecuteTime": {
     "end_time": "2020-03-03T13:43:39.939515Z",
     "start_time": "2020-03-03T13:43:39.686048Z"
    }
   },
   "outputs": [
    {
     "data": {
      "application/vnd.jupyter.widget-view+json": {
       "model_id": "fe44bba3d8814be695c6a0303e09e305",
       "version_major": 2,
       "version_minor": 0
      },
      "text/plain": [
       "_ColormakerRegistry()"
      ]
     },
     "metadata": {},
     "output_type": "display_data"
    },
    {
     "data": {
      "application/vnd.jupyter.widget-view+json": {
       "model_id": "f59e12221deb4669a27acb6c025cfc69",
       "version_major": 2,
       "version_minor": 0
      },
      "text/plain": [
       "HBox(children=(NGLWidget(), VBox(children=(Dropdown(description='Show', options=('All', 'Cu'), value='All'), D…"
      ]
     },
     "metadata": {},
     "output_type": "display_data"
    }
   ],
   "source": [
    "from ase.visualize import view\n",
    "\n",
    "view(cell, viewer='ngl')"
   ]
  },
  {
   "cell_type": "markdown",
   "metadata": {
    "ExecuteTime": {
     "end_time": "2020-02-25T14:38:40.028394Z",
     "start_time": "2020-02-25T14:38:39.914576Z"
    }
   },
   "source": [
    "To simulate water drops, we need something clever."
   ]
  },
  {
   "cell_type": "code",
   "execution_count": 4,
   "metadata": {
    "ExecuteTime": {
     "end_time": "2020-03-03T13:43:51.277131Z",
     "start_time": "2020-03-03T13:43:51.254917Z"
    }
   },
   "outputs": [
    {
     "ename": "SyntaxError",
     "evalue": "invalid syntax (<ipython-input-4-d4a47e21d877>, line 13)",
     "output_type": "error",
     "traceback": [
      "\u001b[0;36m  File \u001b[0;32m\"<ipython-input-4-d4a47e21d877>\"\u001b[0;36m, line \u001b[0;32m13\u001b[0m\n\u001b[0;31m    water_cell.\u001b[0m\n\u001b[0m               ^\u001b[0m\n\u001b[0;31mSyntaxError\u001b[0m\u001b[0;31m:\u001b[0m invalid syntax\n"
     ]
    }
   ],
   "source": [
    "import numpy as np\n",
    "from ase.build import molecule \n",
    "Atoms?\n",
    "water = FaceCenteredCubic('Cu',size=(20,20,20),latticeconstant=2.6)\n",
    "water_pos_init = water.get_positions()\n",
    "\n",
    "water_pos = water_pos_init.transpose()\n",
    "#print(water_pos_init.shape)\n",
    "#print(water_pos_init)\n",
    "molecule?\n",
    "water = molecule('H2O')\n",
    "water_cell = water.cell\n",
    "water_cell.\n",
    "#print(water_cell.cartesian_positions)"
   ]
  },
  {
   "cell_type": "code",
   "execution_count": 6,
   "metadata": {
    "ExecuteTime": {
     "end_time": "2020-03-03T13:44:00.747799Z",
     "start_time": "2020-03-03T13:44:00.331981Z"
    }
   },
   "outputs": [
    {
     "data": {
      "image/png": "[encoded data removed]",
      "text/plain": [
       "<Figure size 432x288 with 1 Axes>"
      ]
     },
     "metadata": {},
     "output_type": "display_data"
    },
    {
     "data": {
      "image/png": "[encoded data removed]",
      "text/plain": [
       "<Figure size 432x288 with 1 Axes>"
      ]
     },
     "metadata": {},
     "output_type": "display_data"
    },
    {
     "data": {
      "image/png": "[encoded data removed]",
      "text/plain": [
       "<Figure size 432x288 with 1 Axes>"
      ]
     },
     "metadata": {},
     "output_type": "display_data"
    }
   ],
   "source": [
    "from design import latin_random, halton, sobol\n",
    "import matplotlib.pyplot as plt\n",
    "\n",
    "X_lh = latin_random(100,2)\n",
    "\n",
    "X_hs = halton(100,2)\n",
    "\n",
    "X_ss = sobol(100,2)\n",
    "\n",
    "plt.scatter(X_lh[:,0],X_lh[:,1])\n",
    "plt.title('latin_random')\n",
    "plt.show()\n",
    "plt.scatter(X_hs[:,0],X_hs[:,1])\n",
    "plt.title('halton')\n",
    "plt.show()\n",
    "plt.scatter(X_ss[:,0],X_ss[:,1])\n",
    "plt.title('sobol')\n",
    "plt.show()"
   ]
  },
  {
   "cell_type": "code",
   "execution_count": 7,
   "metadata": {
    "ExecuteTime": {
     "end_time": "2020-03-03T13:44:03.086221Z",
     "start_time": "2020-03-03T13:44:03.060586Z"
    }
   },
   "outputs": [],
   "source": [
    "import numpy as np\n",
    "\n",
    "def monte_carlo_estimator_pi(N, r, return_log=False):\n",
    "    Qtot = 0\n",
    "    log = []\n",
    "    for n in range(N):\n",
    "        x = np.random.uniform(-r, r)\n",
    "        y = np.random.uniform(-r, r)\n",
    "        Q = (2*r)**2*(x**2 + y**2 <= 1)\n",
    "        log.append([x, y, Q])\n",
    "        Qtot += Q\n",
    "    Qbar = Qtot/N\n",
    "    if return_log:\n",
    "        return Qbar, abs(Qbar - np.pi), log\n",
    "    else:\n",
    "        return Qbar, abs(Qbar - np.pi)"
   ]
  },
  {
   "cell_type": "code",
   "execution_count": 8,
   "metadata": {
    "ExecuteTime": {
     "end_time": "2020-03-03T13:44:05.990525Z",
     "start_time": "2020-03-03T13:44:05.956875Z"
    }
   },
   "outputs": [
    {
     "name": "stdout",
     "output_type": "stream",
     "text": [
      "Qbar = 3.162, |Qbar - pi| = 0.020407346410206806\n"
     ]
    }
   ],
   "source": [
    "Qbar, Qerr = monte_carlo_estimator_pi(2000,1)\n",
    "print(f'Qbar = {Qbar}, |Qbar - pi| = {Qerr}')"
   ]
  },
  {
   "cell_type": "code",
   "execution_count": 9,
   "metadata": {
    "ExecuteTime": {
     "end_time": "2020-03-03T13:44:20.386451Z",
     "start_time": "2020-03-03T13:44:06.427762Z"
    }
   },
   "outputs": [
    {
     "data": {
      "text/plain": [
       "[<matplotlib.lines.Line2D at 0x7fd744139f28>]"
      ]
     },
     "execution_count": 9,
     "metadata": {},
     "output_type": "execute_result"
    },
    {
     "data": {
      "image/png": "[encoded data removed]",
      "text/plain": [
       "<Figure size 432x288 with 1 Axes>"
      ]
     },
     "metadata": {},
     "output_type": "display_data"
    }
   ],
   "source": [
    "M = 4\n",
    "N = 2000\n",
    "NN = 30\n",
    "R = np.linspace(1,4,M)\n",
    "QB = []\n",
    "QE = []\n",
    "for i in range(M):\n",
    "    QB_temp = 0\n",
    "    QE_temp = 0\n",
    "    for j in range(NN):\n",
    "        Qbar, Qerr = monte_carlo_estimator_pi(int(np.ceil(R[i]**2))*N, R[i])\n",
    "        QB_temp = QB_temp + Qbar\n",
    "        QE_temp = QE_temp + Qerr\n",
    "    QB.append(QB_temp/NN)\n",
    "    QE.append(QE_temp/NN)\n",
    "plt.plot(R,QE)"
   ]
  },
  {
   "cell_type": "code",
   "execution_count": 17,
   "metadata": {
    "ExecuteTime": {
     "end_time": "2020-03-17T16:36:43.556148Z",
     "start_time": "2020-03-17T16:36:43.547425Z"
    }
   },
   "outputs": [
    {
     "name": "stdout",
     "output_type": "stream",
     "text": [
      "[[ 1.         -0.00629978 -0.02518291  0.1996851  -0.10681108 -0.09074579]\n",
      " [-0.00629978  1.          0.02703669  0.02813452  0.08113771 -0.05723593]\n",
      " [-0.02518291  0.02703669  1.          0.04178579 -0.10263538  0.12986966]\n",
      " [ 0.1996851   0.02813452  0.04178579  1.          0.0033412   0.06701543]\n",
      " [-0.10681108  0.08113771 -0.10263538  0.0033412   1.          0.06165983]\n",
      " [-0.09074579 -0.05723593  0.12986966  0.06701543  0.06165983  1.        ]]\n"
     ]
    }
   ],
   "source": [
    "import numpy as np\n",
    "\n",
    "x = np.random.rand(3,100)\n",
    "y = np.random.rand(3,100)\n",
    "X = np.vstack((x,y))\n",
    "#print(X)\n",
    "print(np.corrcoef(x,y))\n"
   ]
  },
  {
   "cell_type": "code",
   "execution_count": 25,
   "metadata": {
    "ExecuteTime": {
     "end_time": "2020-03-17T20:22:30.203954Z",
     "start_time": "2020-03-17T20:22:30.199601Z"
    }
   },
   "outputs": [
    {
     "name": "stdout",
     "output_type": "stream",
     "text": [
      "[[0. 0. 0.]\n",
      " [0. 0. 0.]\n",
      " [0. 0. 0.]]\n",
      "1\n",
      "2\n",
      "2\n"
     ]
    }
   ],
   "source": [
    "print(np.zeros((3,3)))\n",
    "for i in range(1,3):\n",
    "    for j in range(i,3):\n",
    "        print(j)"
   ]
  },
  {
   "cell_type": "code",
   "execution_count": 33,
   "metadata": {
    "ExecuteTime": {
     "end_time": "2020-03-19T16:26:01.137620Z",
     "start_time": "2020-03-19T16:26:01.084417Z"
    }
   },
   "outputs": [
    {
     "name": "stdout",
     "output_type": "stream",
     "text": [
      "3330.6370315302574\n",
      "[0.62382718 0.66356423 0.91124554 ... 0.91124554 0.66356423 0.62382718]\n"
     ]
    }
   ],
   "source": [
    "import numpy as np\n",
    "\n",
    "def autocorr(x):\n",
    "    result = np.correlate(x,x,mode='full')\n",
    "    mid = int(np.floor(result.size/2))\n",
    "    result = result[mid]\n",
    "    return result\n",
    "\n",
    "x = np.random.rand(10000)\n",
    "y = np.random.rand(100)\n",
    "y = np.ones(10000)\n",
    "np.correlate?\n",
    "print(autocorr(x))\n",
    "print(np.correlate(x,x,mode='full'))"
   ]
  },
  {
   "cell_type": "code",
   "execution_count": null,
   "metadata": {},
   "outputs": [],
   "source": []
  },
  {
   "cell_type": "code",
   "execution_count": null,
   "metadata": {},
   "outputs": [],
   "source": []
  }
 ],
 "metadata": {
  "kernelspec": {
   "display_name": "Python 3",
   "language": "python",
   "name": "python3"
  },
  "language_info": {
   "codemirror_mode": {
    "name": "ipython",
    "version": 3
   },
   "file_extension": ".py",
   "mimetype": "text/x-python",
   "name": "python",
   "nbconvert_exporter": "python",
   "pygments_lexer": "ipython3",
   "version": "3.6.9"
  },
  "latex_envs": {
   "LaTeX_envs_menu_present": true,
   "autoclose": false,
   "autocomplete": true,
   "bibliofile": "biblio.bib",
   "cite_by": "apalike",
   "current_citInitial": 1,
   "eqLabelWithNumbers": true,
   "eqNumInitial": 1,
   "hotkeys": {
    "equation": "Ctrl-E",
    "itemize": "Ctrl-I"
   },
   "labels_anchors": false,
   "latex_user_defs": false,
   "report_style_numbering": false,
   "user_envs_cfg": false
  },
  "toc": {
   "base_numbering": 1,
   "nav_menu": {},
   "number_sections": true,
   "sideBar": true,
   "skip_h1_title": false,
   "title_cell": "Table of Contents",
   "title_sidebar": "Contents",
   "toc_cell": false,
   "toc_position": {},
   "toc_section_display": true,
   "toc_window_display": true
  }
 },
 "nbformat": 4,
 "nbformat_minor": 2
}
